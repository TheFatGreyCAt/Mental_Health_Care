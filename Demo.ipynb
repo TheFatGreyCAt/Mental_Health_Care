{
 "cells": [
  {
   "cell_type": "markdown",
   "id": "c7fca197",
   "metadata": {},
   "source": [
    "# Xây dựng hệ thống lưu trữ và phân tích dữ liệu lớn bằng Hadoop và Hive\n",
    "\n",
    "## Bài toán : Phân tích dữ liệu sức khoẻ tâm thần\n",
    "\n",
    "## Mục tiêu\n",
    "- Lưu trữ dữ liệu sức khỏe trên hệ thống Hadoop.\n",
    "- Sử dụng Hive để phân tích dữ liệu và trả lời các câu hỏi liên quan.\n",
    "- Trình bày kết quả phân tích qua các công cụ trực quan."
   ]
  },
  {
   "cell_type": "markdown",
   "id": "fcda60b0",
   "metadata": {},
   "source": [
    "## 1. Tạo dữ liệu giả lập\n",
    "- Sử dụng thư viện random của python để tạo dữ liệu giả lập ngẫu nhiên từ list\n",
    "- Sử dụng thư viện csv để ghi dữ liệu file csv\n",
    "- Sử dụng thư viện tqdm hiển thị progress bar\n"
   ]
  },
  {
   "cell_type": "code",
   "execution_count": null,
   "id": "51b25fb6",
   "metadata": {},
   "outputs": [],
   "source": [
    "import csv\n",
    "import random\n",
    "from tqdm import tqdm\n",
    "\n",
    "def generate_random_name():\n",
    "    first_names = [\"John\", \"Jane\", \"Alex\", \"Emily\", \"Chris\", \"Katie\", \"Michael\", \"Sarah\", \"David\", \"Laura\"]\n",
    "    last_names = [\"Smith\", \"Johnson\", \"Williams\", \"Brown\", \"Jones\", \"Garcia\", \"Miller\", \"Davis\", \"Martinez\", \"Hernandez\"]\n",
    "    return f\"{random.choice(first_names)} {random.choice(last_names)}\"\n",
    "\n",
    "def generate_random_address():\n",
    "    streets = [\"Main St\", \"High St\", \"Park Ave\", \"Oak St\", \"Pine St\", \"Maple Ave\", \"Cedar St\", \"Elm St\", \"Washington Ave\", \"Lake St\"]\n",
    "    street_number = random.randint(1, 9999)\n",
    "    return f\"{street_number} {random.choice(streets)}\"\n",
    "\n",
    "def generate_random_city():\n",
    "    cities = [\"New York\", \"Los Angeles\", \"Chicago\", \"Houston\", \"Phoenix\", \"Philadelphia\", \"San Antonio\", \"San Diego\", \"Dallas\", \"San Jose\"]\n",
    "    return random.choice(cities)\n",
    "\n",
    "def generate_contact_row(row_id):\n",
    "    name = generate_random_name()\n",
    "    countries = [\n",
    "        \"United States\", \"Australia\", \"United Kingdom\", \"Canada\", \"France\", \"South Korea\", \"Japan\", \"Brazil\", \"India\", \"China\"\n",
    "    ]\n",
    "    return [\n",
    "        row_id,\n",
    "        f\"+{random.randint(1, 99)} {random.randint(1000000, 9999999)}\",\n",
    "        f\"{name.lower().replace(' ', '.')}@gmail.com\",\n",
    "        generate_random_address(),\n",
    "        generate_random_city(),\n",
    "        random.choice(countries)\n",
    "    ]\n",
    "\n",
    "def generate_contact_data(file_name, a, b):\n",
    "    with open(file_name, mode='w', newline='', encoding='utf-8') as file:\n",
    "        writer = csv.writer(file)\n",
    "        writer.writerow([\"ContactID\", \"PhoneNumber\", \"Email\", \"Address\", \"City\", \"Country\"])\n",
    "        for i in tqdm(range(a, b + 1), desc=\"Generating contact data\", unit=\"row\"):\n",
    "            writer.writerow(generate_contact_row(i))\n",
    "\n",
    "if __name__ == \"__main__\":\n",
    "    output_file = \"contacts_data.csv\"\n",
    "    generate_contact_data(output_file, 1, 6)"
   ]
  },
  {
   "cell_type": "markdown",
   "id": "915fa0c2",
   "metadata": {},
   "source": [
    "- Dữ liệu mẫu với định dạng CSV"
   ]
  },
  {
   "cell_type": "code",
   "execution_count": null,
   "id": "e81d39e6",
   "metadata": {},
   "outputs": [],
   "source": [
    "# ContactID,PhoneNumber,Email,Address,City,Country\n",
    "# 1,+16 3053523,katie.davis@gmail.com,2434 Oak St,Phoenix,India\n",
    "# 2,+92 1070191,chris.smith@gmail.com,3583 Maple Ave,Los Angeles,India\n",
    "# 3,+71 2089826,laura.smith@gmail.com,6091 Park Ave,New York,United States\n",
    "# 4,+76 2124015,alex.davis@gmail.com,9346 Elm St,Chicago,India\n",
    "# 5,+94 6816887,sarah.miller@gmail.com,346 Elm St,Dallas,United Kingdom\n",
    "# 6,+57 2178972,chris.johnson@gmail.com,7216 Main St,Dallas,Brazil"
   ]
  },
  {
   "cell_type": "markdown",
   "id": "5b7034a6",
   "metadata": {},
   "source": []
  },
  {
   "cell_type": "markdown",
   "id": "c25958f5",
   "metadata": {},
   "source": [
    "## 2. Chuyển từ định dạng CSV sang định dạng Parquet\n",
    "- Dữ liệu được lưu trữ dưới dạng CSV được chuyển đổi sang định dạng Parquet để tối ưu hoá lưu trữ và truy vấn dữ liệu."
   ]
  },
  {
   "cell_type": "code",
   "execution_count": null,
   "id": "8d6f5fc8",
   "metadata": {},
   "outputs": [],
   "source": [
    "import os\n",
    "import pandas as pd\n",
    "import pyarrow as pa\n",
    "import pyarrow.parquet as pq\n",
    "\n",
    "input_dir = r'D:/SharedFolderVMware/Data'\n",
    "output_dir = r'D:/SharedFolderVMware/Parquet'\n",
    "\n",
    "os.makedirs(output_dir, exist_ok=True)\n",
    "\n",
    "for file_name in os.listdir(input_dir):\n",
    "    if file_name.endswith('.csv'):\n",
    "        csv_file_path = os.path.join(input_dir, file_name)\n",
    "        parquet_file_path = os.path.join(output_dir, file_name.replace('.csv', '.parquet'))\n",
    "        \n",
    "        df = pd.read_csv(csv_file_path)\n",
    "        # match type\n",
    "        if file_name == 'patients_data.csv':\n",
    "            df['DateOfBirth'] = pd.to_datetime(df['DateOfBirth']).dt.date\n",
    "        elif file_name == 'medical_history_data.csv':\n",
    "            df['FamilyHistoryOfDepression'] = df['FamilyHistoryOfDepression'].astype('bool')\n",
    "            df['HistoryOfSubstanceAbuse'] = df['HistoryOfSubstanceAbuse'].astype('bool')\n",
    "        elif \"hospital_visit_records\" in file_name:\n",
    "            df['VisitDate'] = pd.to_datetime(df['VisitDate']).dt.date\n",
    "\n",
    "        table = pa.Table.from_pandas(df)\n",
    "        pq.write_table(table, parquet_file_path, use_dictionary=False)\n",
    "        \n",
    "        print(f'Converted {csv_file_path} to {parquet_file_path}')"
   ]
  },
  {
   "cell_type": "markdown",
   "id": "40a81c2a",
   "metadata": {},
   "source": [
    "- Kiểm tra dữ liệu sau khi tạo đảm bảm khớp với cơ sở dữ liệu"
   ]
  },
  {
   "cell_type": "code",
   "execution_count": null,
   "id": "51caf621",
   "metadata": {},
   "outputs": [],
   "source": [
    "import os\n",
    "import pandas as pd\n",
    "import pyarrow as pa\n",
    "import pyarrow.parquet as pq\n",
    "\n",
    "input_dir = r\"D:/SharedFolderVMware/Parquet\"\n",
    "\n",
    "os.makedirs(input_dir, exist_ok=True)\n",
    "for file_name in os.listdir(input_dir):\n",
    "    parquet_file_path = os.path.join(input_dir, file_name)\n",
    "    df = pq.read_table(parquet_file_path)\n",
    "    print(df)"
   ]
  },
  {
   "cell_type": "markdown",
   "id": "d84511e0",
   "metadata": {},
   "source": [
    "## Bước 3: Lưu trữ dữ liệu trên HDFS và Hive\n",
    "- Sử dụng lệnh Hadoop để tải dữ liệu Parquet lên HDFS."
   ]
  },
  {
   "cell_type": "code",
   "execution_count": null,
   "id": "6bf16451",
   "metadata": {
    "vscode": {
     "languageId": "bash"
    }
   },
   "outputs": [],
   "source": [
    "hdfs dfs -put *.parquet /user/fatcat/mental_health_data/"
   ]
  },
  {
   "cell_type": "markdown",
   "id": "f176d32d",
   "metadata": {},
   "source": [
    "- Tạo bảng Hive từ dữ liệu Parquet."
   ]
  },
  {
   "cell_type": "code",
   "execution_count": null,
   "id": "4b011d76",
   "metadata": {
    "vscode": {
     "languageId": "plaintext"
    }
   },
   "outputs": [],
   "source": []
  },
  {
   "cell_type": "code",
   "execution_count": null,
   "id": "40179aa0",
   "metadata": {
    "vscode": {
     "languageId": "sql"
    }
   },
   "outputs": [],
   "source": [
    "CREATE TABLE patients (\n",
    "    PatientID INT,\n",
    "    FullName STRING,\n",
    "    DateOfBirth DATE,\n",
    "    MaritalStatus STRING,\n",
    "    EducationLevel STRING,\n",
    "    NumberOfChildren INT,\n",
    "    Occupation STRING,\n",
    "    Income STRING,\n",
    "    ContactID INT\n",
    ")\n",
    "PARTITIONED BY (Gender STRING)\n",
    "CLUSTERED BY (PatientID) INTO 20 BUCKETS\n",
    "STORED AS PARQUET;"
   ]
  },
  {
   "cell_type": "markdown",
   "id": "5cc2bfce",
   "metadata": {},
   "source": [
    "- Thêm dữ liệu vào table từ file Parquet"
   ]
  },
  {
   "cell_type": "code",
   "execution_count": null,
   "id": "5c80f4a9",
   "metadata": {
    "vscode": {
     "languageId": "sql"
    }
   },
   "outputs": [],
   "source": [
    "LOAD DATA INPATH '/user/fatcat/mental_health_data/patients_data.parquet' INTO TABLE patients;"
   ]
  },
  {
   "cell_type": "markdown",
   "id": "803c3d31",
   "metadata": {},
   "source": [
    "- Thực hiện các truy vấn phân tích như tổng hợp, nhóm, và phân tích xu hướng."
   ]
  },
  {
   "cell_type": "code",
   "execution_count": null,
   "id": "5aecd4a5",
   "metadata": {
    "vscode": {
     "languageId": "sql"
    }
   },
   "outputs": [],
   "source": [
    "-- Thống kê số bệnh nhân theo tuổi, giới tính, tình trạng hôn nhân và thu nhập\n",
    "INSERT OVERWRITE DIRECTORY '/user/fatcat/export_data/query1'\n",
    "ROW FORMAT DELIMITED\n",
    "FIELDS TERMINATED BY ','\n",
    "SELECT \n",
    "    Age,\n",
    "    Gender,\n",
    "    MaritalStatus,\n",
    "    AVG(IncomeFloat) AS AvgIncome,\n",
    "    COUNT(*) AS TotalRecords\n",
    "FROM temp_p_vr_data\n",
    "GROUP BY Age, Gender, MaritalStatus\n",
    "ORDER BY Age, Gender, MaritalStatus;"
   ]
  },
  {
   "cell_type": "markdown",
   "id": "948c9756",
   "metadata": {},
   "source": [
    "## Bước 4: Trình bày kết quả\n",
    "- Báo cáo chi tiết\n",
    "- Video trình bày\n",
    "- Powerpoint\n",
    "- PowerBI"
   ]
  }
 ],
 "metadata": {
  "kernelspec": {
   "display_name": ".venv",
   "language": "python",
   "name": "python3"
  },
  "language_info": {
   "name": "python",
   "version": "3.12.10"
  }
 },
 "nbformat": 4,
 "nbformat_minor": 5
}
